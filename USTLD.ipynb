{
  "nbformat": 4,
  "nbformat_minor": 0,
  "metadata": {
    "colab": {
      "name": "USTLD.ipynb",
      "provenance": [],
      "authorship_tag": "ABX9TyPFNRGCKfybBK2I0xxQH4mK",
      "include_colab_link": true
    },
    "kernelspec": {
      "name": "python3",
      "display_name": "Python 3"
    },
    "language_info": {
      "name": "python"
    }
  },
  "cells": [
    {
      "cell_type": "markdown",
      "metadata": {
        "id": "view-in-github",
        "colab_type": "text"
      },
      "source": [
        "<a href=\"https://colab.research.google.com/github/ayandalab/USTLD-/blob/main/USTLD.ipynb\" target=\"_parent\"><img src=\"https://colab.research.google.com/assets/colab-badge.svg\" alt=\"Open In Colab\"/></a>"
      ]
    },
    {
      "cell_type": "code",
      "metadata": {
        "colab": {
          "base_uri": "https://localhost:8080/",
          "height": 300
        },
        "id": "0em5yuLD3b1U",
        "outputId": "e74903fc-2fed-48cf-a07a-2747c0a9603e"
      },
      "source": [
        "import math\n",
        "import matplotlib.pyplot as plt\n",
        "\n",
        "\n",
        "def biterrors(a,b):\n",
        "    count = 0\n",
        "    for i in range(0,32):\n",
        "        if (((a >> i) & 1) != (b >> i) & 1):\n",
        "            count = count + 1\n",
        "    return count\n",
        "\n",
        "\n",
        "def mappoints(map, mapper):\n",
        "    mapped = {}\n",
        "    for i in range(len(mapper)):\n",
        "        for j in map.keys():\n",
        "            if j == mapper[i]:\n",
        "                #print(mapper[i], map.get(i))\n",
        "                mapped[j] = map.get(i)\n",
        "    return mapped\n",
        "\n",
        "\n",
        "def USTLD_Theory(mapper1, mapper2, map, n, Nr, SNR):\n",
        "    M = 16\n",
        "    r = math.log2(M)\n",
        "    d1 = 0\n",
        "    d2 = 0\n",
        "    BER = 0\n",
        "\n",
        "    SNR = 10**(SNR/10)\n",
        "\n",
        "    m1 = mappoints(map, mapper1)\n",
        "    m2 = mappoints(map, mapper2)\n",
        "\n",
        "    for i in range(0, M - 1):\n",
        "            for j in range(0, M - 1):\n",
        "                second = 0\n",
        "                first = 0\n",
        "                a,b,c,d = 0,0,0,0\n",
        "                d1,d2 = 0,0\n",
        "                if i != j:\n",
        "                    d1 = abs(m1[i] - m1[j])\n",
        "                    d2 = abs(m2[i] - m2[j])\n",
        "                    Nqq = biterrors(i, j)\n",
        "                    a = math.pow((1 + ((SNR / 8) * d1)),(-Nr))\n",
        "                    b = math.pow((1 + ((SNR / 8) * d2)), (-Nr))\n",
        "                    first = 0.5 * a * b\n",
        "                    for k in range(1, n-1):\n",
        "                        Sk = math.pow(math.sin((k * math.pi) / (2 * n)), 2)\n",
        "                        c = math.pow((1 + ((SNR / 8) * d1 * (1 / Sk))),(-Nr))\n",
        "                        d = math.pow((1 + ((SNR / 8) * d2 * (1 / Sk))),(-Nr))\n",
        "                        second = second + (c * d)\n",
        "                    BER = BER + Nqq * (1 / (2 * n)) * (first + second)\n",
        "    BER = (1 / (M * r)) * BER\n",
        "    return round(BER,9)\n",
        "\n",
        "M = 16\n",
        "\n",
        "map = {\n",
        "0:complex(1,0), 1:complex(0.9808,0.1951), 2:complex(0.8315,0.5556), 3:complex(0.9239,0.3827),\n",
        "4:complex(0.1951,0.9809), 5:complex(0.3827,0.9239), 6:complex(0.707,0.707), 7:complex(0.5556,0.8315),\n",
        "8:complex(-0.9808,0.1951), 9:complex(-0.9239,0.3827), 10:complex(-0.707,0.707), 11:complex(-0.8315,0.5556),\n",
        "12:complex(0,1), 13:complex(-0.1951,0.9808), 14:complex(-0.5556,0.8315), 15:complex(-0.3827,0.9239),\n",
        "16:complex(0.9808,-0.1951), 17:complex(0.9239,-0.3827), 18:complex(0.707,-0.707), 19:complex(0.8315,-0.5556),\n",
        "20:complex(0,-1), 21:complex(0.1951,-0.9808), 22:complex(0.5556,-0.8315), 23:complex(0.3827,-0.9239),\n",
        "24:complex(-1,0), 25:complex(-0.9808,-0.1951), 26:complex(-0.8315,-0.5556), 27:complex(-0.9239,-0.3827),\n",
        "28:complex(-0.1951,-0.9808), 29:complex(-0.3827,-0.9239), 30:complex(-0.707,-0.707), 31:complex(-0.5556,-0.8315)\n",
        "}\n",
        "\n",
        "mapper = [0,1,2,3,4,5,6,7,8,9,10,11,12,13,14,15,16,17,18,19,20,21,22,23,24,25,26,27,28,29,30,31]\n",
        "mapper2 = [31,1,2,28,27,5,6,24,23,9,10,20,19,13,14,16,15,17,18,12,11,21,22,8,7,25,26,4,3,29,30,0]\n",
        "mapper3 = 4, 31, 17, 10, 29, 24, 26, 21, 30, 23, 1, 11, 18, 7, 15, 20, 8, 3, 27, 13, 6, 14, 16, 28, 12, 2, 19, 9, 22, 0, 25, 5\n",
        "mapper4 = 16,1,22,12,18,5,14,28,9,2,26,17,30,4,23,0,19,25,8,29,11,21,6,24,31,15,3,10,27,13,20,7\n",
        "maps = [mapper, mapper2]\n",
        "\n",
        "SNR = [0,2,4,6,8,10,12,14,16]\n",
        "\n",
        "BER1, BER2 = [], []\n",
        "\n",
        "for i in range(len(SNR)):\n",
        "    BER1.append(USTLD_Theory(mapper,mapper3,map,10,4,SNR[i]))\n",
        "\n",
        "for i in range(len(SNR)):\n",
        "    BER2.append(USTLD_Theory(mapper,mapper4,map,10,4,SNR[i]))\n",
        "\n",
        "print(BER1)\n",
        "print(BER2)\n",
        "\n",
        "plt.semilogy(SNR,BER1)\n",
        "plt.semilogy(SNR,BER2)\n",
        "plt.xticks()\n",
        "plt.show()"
      ],
      "execution_count": 1,
      "outputs": [
        {
          "output_type": "stream",
          "text": [
            "[0.448004883, 0.23774279, 0.10478013, 0.037104011, 0.010202285, 0.002105107, 0.000317365, 3.4632e-05, 2.77e-06]\n",
            "[0.425205759, 0.221373318, 0.09555517, 0.033339514, 0.009199538, 0.001960754, 0.0003147, 3.7352e-05, 3.274e-06]\n"
          ],
          "name": "stdout"
        },
        {
          "output_type": "display_data",
          "data": {
            "image/png": "[encoded data removed]",
            "text/plain": [
              "<Figure size 432x288 with 1 Axes>"
            ]
          },
          "metadata": {
            "tags": [],
            "needs_background": "light"
          }
        }
      ]
    }
  ]
}